{
  "nbformat": 4,
  "nbformat_minor": 0,
  "metadata": {
    "colab": {
      "provenance": []
    },
    "kernelspec": {
      "name": "python3",
      "display_name": "Python 3"
    },
    "language_info": {
      "name": "python"
    }
  },
  "cells": [
    {
      "cell_type": "markdown",
      "source": [
        "# Import Libraries"
      ],
      "metadata": {
        "id": "MD-W9lOFOmqj"
      }
    },
    {
      "cell_type": "code",
      "source": [
        "import numpy as np\n",
        "from sklearn.feature_extraction.text import TfidfVectorizer\n",
        "from sklearn.cluster import KMeans\n",
        "from sklearn.datasets import fetch_20newsgroups\n",
        "import matplotlib.pyplot as plt\n"
      ],
      "metadata": {
        "id": "4eKIjdTjNE9M"
      },
      "execution_count": 61,
      "outputs": []
    },
    {
      "cell_type": "markdown",
      "source": [
        "# Load the dataset\n",
        "\n",
        "The `fetch_20newsgroups` dataset is a popular text dataset provided by the scikit-learn library. It contains a collection of approximately 20,000 newsgroup documents, which are categorized into 20 different newsgroups. Each document is a post from a specific newsgroup (similar to a forum or online discussion group), and the dataset is often used for experiments in text classification and clustering.\n",
        "\n",
        "\n",
        "Example categories:\n",
        "\n",
        "* comp.graphics\n",
        "* comp.os.ms-windows.misc\n",
        "* comp.sys.ibm.pc.hardware\n",
        "* comp.sys.mac.hardware\n",
        "* rec.autos\n",
        "* rec.motorcycles\n",
        "* rec.sport.baseball\n",
        "* rec.sport.hockey\n",
        "* sci.crypt\n",
        "* sci.electronics\n",
        "* sci.med\n",
        "* sci.space\n",
        "* talk.politics.misc\n",
        "* talk.politics.guns\n",
        "* talk.politics.mideast\n",
        "* talk.religion.misc\n",
        "* alt.atheism\n",
        "* soc.religion.christian\n",
        "* misc.forsale"
      ],
      "metadata": {
        "id": "S1xF9ICSOtUJ"
      }
    },
    {
      "cell_type": "code",
      "source": [
        "categories = ['alt.atheism', 'comp.graphics', 'rec.sport.baseball', 'sci.med', 'misc.forsale']\n",
        "newsgroups = fetch_20newsgroups(subset='all', categories=categories)\n",
        "\n",
        "# Access the text data (list of documents)\n",
        "documents = newsgroups.data\n",
        "print(len(documents))"
      ],
      "metadata": {
        "colab": {
          "base_uri": "https://localhost:8080/"
        },
        "id": "EAUcQf7bOAVK",
        "outputId": "1d252a3f-a148-4647-ca98-68091497e536"
      },
      "execution_count": 62,
      "outputs": [
        {
          "output_type": "stream",
          "name": "stdout",
          "text": [
            "4731\n"
          ]
        }
      ]
    },
    {
      "cell_type": "code",
      "source": [
        "print(documents[0])"
      ],
      "metadata": {
        "colab": {
          "base_uri": "https://localhost:8080/"
        },
        "id": "9iIrKhczRK1p",
        "outputId": "790a2d22-74a1-4579-c271-28a609bb32db"
      },
      "execution_count": 63,
      "outputs": [
        {
          "output_type": "stream",
          "name": "stdout",
          "text": [
            "From: carrd@iccgcc.decnet.ab.com\n",
            "Subject: Re: David Wells\n",
            "Lines: 5\n",
            "\n",
            "Has David Wells landed with a team yet?  I'd think the Tigers with their \n",
            "anemic pitching would grab this guy pronto!\n",
            "\n",
            "DC\n",
            "\n",
            "\n"
          ]
        }
      ]
    },
    {
      "cell_type": "code",
      "source": [
        "print(documents[30])"
      ],
      "metadata": {
        "colab": {
          "base_uri": "https://localhost:8080/"
        },
        "id": "6itq2EIHR0oo",
        "outputId": "dfd4ffcd-b901-43c5-902e-97be3a418bbf"
      },
      "execution_count": 64,
      "outputs": [
        {
          "output_type": "stream",
          "name": "stdout",
          "text": [
            "From: af774@cleveland.Freenet.Edu (Chad Cipiti)\n",
            "Subject: Good shareware paint and/or animation software for SGI?\n",
            "Organization: Case Western Reserve University, Cleveland, OH (USA)\n",
            "Lines: 15\n",
            "Reply-To: af774@cleveland.Freenet.Edu (Chad Cipiti)\n",
            "NNTP-Posting-Host: hela.ins.cwru.edu\n",
            "\n",
            "\n",
            "Does anyone know of any good shareware animation or paint software for an SGI\n",
            " machine?  I've exhausted everyplace on the net I can find and still don't hava\n",
            " a nice piece of software.\n",
            "\n",
            "Thanks alot!\n",
            "\n",
            "Chad\n",
            "\n",
            "\n",
            "-- \n",
            "Knock, knock.                                         Chad Cipiti\n",
            "Who's there?                                    af774@cleveland.freenet.edu\n",
            "                                               cipiti@bobcat.ent.ohiou.edu\n",
            "It might be Heisenberg.                          chad@voxel.zool.ohiou.edu\n",
            "\n"
          ]
        }
      ]
    },
    {
      "cell_type": "markdown",
      "source": [
        "#TfidfVectorizer\n",
        "\n",
        "The `TfidfVectorizer` is a tool provided by the `scikit-learn` library in Python. It is used to convert a collection of text documents into a matrix of numerical features based on the TF-IDF (Term Frequency-Inverse Document Frequency) representation. This numerical representation is crucial for applying machine learning algorithms to text data.\n",
        "\n",
        "### Breakdown of the Components:\n",
        "**TF-IDF (Term Frequency-Inverse Document Frequency)**:\n",
        "\n",
        "- **Term Frequency (TF)**: This measures how frequently a term (word) appears in a document. The more frequently a word appears in a document, the higher its TF value.\n",
        "\n",
        "$$ \\text{TF}(t, d) = \\frac{\\text{Number of times term } t \\text{ appears in document } d}{\\text{Total number of terms in document } d} $$\n",
        "\n",
        "- **Inverse Document Frequency (IDF)**: This measures how important a term is by reducing the weight of terms that appear in many documents and increasing the weight of terms that are unique to a few documents.\n",
        "\n",
        "$$ \\text{IDF}(t) = \\log \\left(\\frac{\\text{Total number of documents}}{\\text{Number of documents containing the term } t}\\right) $$\n",
        "\n",
        "- **TF-IDF Score**: The TF-IDF score for a term in a document is the product of its TF and IDF values. This score reflects the importance of a word to a document in a collection relative to its occurrence across the entire collection.\n",
        "\n",
        "$$ \\text{TF-IDF}(t, d) = \\text{TF}(t, d) \\times \\text{IDF}(t) $$\n",
        "\n",
        "The TF-IDF score helps prioritize unique and significant words in each document while down-weighting common words that appear across many documents.\n",
        "\n",
        "### Vectorization:\n",
        "\n",
        "The `TfidfVectorizer` converts the text data into a matrix where each row represents a document, and each column represents a term (word). The value in each cell of this matrix is the TF-IDF score for that term in that document.\n",
        "\n",
        "### Stop Words:\n",
        "\n",
        "Stop words are common words in a language that are often removed before processing the text because they don't carry significant meaning (e.g., \"and,\" \"the,\" \"is\").\n",
        "The `stop_words='english'` parameter tells the `TfidfVectorizer` to automatically remove English stop words from the text during the vectorization process.\n"
      ],
      "metadata": {
        "id": "o3IuVGrQO2Fb"
      }
    },
    {
      "cell_type": "code",
      "source": [
        "vectorizer = TfidfVectorizer(stop_words='english') # remove all  the stop words\n",
        "X = vectorizer.fit_transform(newsgroups.data)"
      ],
      "metadata": {
        "id": "7W1KQZNLN8Qq"
      },
      "execution_count": 65,
      "outputs": []
    },
    {
      "cell_type": "code",
      "source": [
        "print(X)"
      ],
      "metadata": {
        "colab": {
          "base_uri": "https://localhost:8080/"
        },
        "id": "5mN6za4WTQsU",
        "outputId": "61aac1fb-7a7f-4938-cdb8-9dd8b5f2040c"
      },
      "execution_count": 66,
      "outputs": [
        {
          "output_type": "stream",
          "name": "stdout",
          "text": [
            "  (0, 16631)\t0.18959235364535612\n",
            "  (0, 38135)\t0.2729364002765319\n",
            "  (0, 23629)\t0.15589873651407668\n",
            "  (0, 23150)\t0.2284147685944887\n",
            "  (0, 36835)\t0.1594278548013447\n",
            "  (0, 8514)\t0.28069223797184295\n",
            "  (0, 46738)\t0.19656709853510687\n",
            "  (0, 46535)\t0.08809361511190625\n",
            "  (0, 46037)\t0.13520361402160905\n",
            "  (0, 29003)\t0.25660040560777214\n",
            "  (0, 29718)\t0.034897005524428745\n",
            "  (0, 50186)\t0.49106371213761735\n",
            "  (0, 16571)\t0.24705535381977542\n",
            "  (0, 44919)\t0.034757167077573134\n",
            "  (0, 14478)\t0.06965048033365795\n",
            "  (0, 7061)\t0.1778975319001479\n",
            "  (0, 16801)\t0.2612415785313237\n",
            "  (0, 25474)\t0.29069125182927197\n",
            "  (0, 12858)\t0.29069125182927197\n",
            "  (1, 9979)\t0.13516834503578373\n",
            "  (1, 27648)\t0.07367476944886191\n",
            "  (1, 37911)\t0.14328288713932047\n",
            "  (1, 16596)\t0.07123539787976232\n",
            "  (1, 3512)\t0.10644810852288572\n",
            "  (1, 34994)\t0.07878388017509373\n",
            "  :\t:\n",
            "  (4730, 44359)\t0.056969050233258114\n",
            "  (4730, 18305)\t0.03812132443548385\n",
            "  (4730, 17723)\t0.0422036780702261\n",
            "  (4730, 38399)\t0.03376780830771083\n",
            "  (4730, 45306)\t0.03369608308547484\n",
            "  (4730, 47665)\t0.08541695881287134\n",
            "  (4730, 24549)\t0.03878655488482079\n",
            "  (4730, 11454)\t0.051079270368781446\n",
            "  (4730, 29607)\t0.09825358892759252\n",
            "  (4730, 25203)\t0.07060870579849196\n",
            "  (4730, 26256)\t0.027660318719219344\n",
            "  (4730, 47575)\t0.0320472074081751\n",
            "  (4730, 50036)\t0.048661786255791414\n",
            "  (4730, 29001)\t0.2330365721331965\n",
            "  (4730, 18242)\t0.02136029315521219\n",
            "  (4730, 14499)\t0.029703862161668874\n",
            "  (4730, 17556)\t0.06051037301124193\n",
            "  (4730, 50851)\t0.015182584136375155\n",
            "  (4730, 9191)\t0.015660327210684048\n",
            "  (4730, 34009)\t0.06427153019898225\n",
            "  (4730, 12905)\t0.02801672120192346\n",
            "  (4730, 35023)\t0.008684436115012321\n",
            "  (4730, 29718)\t0.008461569743663655\n",
            "  (4730, 44919)\t0.008427662743531909\n",
            "  (4730, 14478)\t0.033776674426140074\n"
          ]
        }
      ]
    },
    {
      "cell_type": "markdown",
      "source": [
        "`(0, 17524)\t0.09728377110441032`\n",
        "## What is 17524? ()\n",
        "Imagine you have a huge list of all the unique words from a bunch of text documents. Each word gets a unique number so we can easily refer to it. The number 17524 is just one of these unique numbers assigned to a word in this list.\n",
        "\n",
        "Steps to Understand It:\n",
        "\n",
        "When you use tools like TfidfVectorizer, it first looks at all your documents and makes a list of all the unique words. This list is called a vocabulary.\n",
        "Each word in this list gets a unique number. For example, the word \"apple\" might get the number 0, \"banana\" might get the number 1, and so on.\n",
        "\n",
        "In the vocabulary list, the number 17524 represents a specific word. It’s like a code for that word. If you know this number, you can find out which word it represents.\n",
        "\n",
        "To find out which word the number 17524 corresponds to, you need to look up the vocabulary list created by the TfidfVectorizer."
      ],
      "metadata": {
        "id": "IzZ7vByGZtZe"
      }
    },
    {
      "cell_type": "markdown",
      "source": [
        "# Clustering the documents into 4 clusters"
      ],
      "metadata": {
        "id": "XGVo8T3rO4jq"
      }
    },
    {
      "cell_type": "code",
      "source": [
        "\n",
        "k = 4  # Number of clusters\n",
        "model = KMeans(n_clusters=k, init='k-means++', max_iter=100, n_init=1, random_state=42)\n",
        "model.fit(X)\n"
      ],
      "metadata": {
        "colab": {
          "base_uri": "https://localhost:8080/",
          "height": 75
        },
        "id": "nub39W1FN5_L",
        "outputId": "5d910c79-75f9-48ee-d159-a919e37957e6"
      },
      "execution_count": 67,
      "outputs": [
        {
          "output_type": "execute_result",
          "data": {
            "text/plain": [
              "KMeans(max_iter=100, n_clusters=4, n_init=1, random_state=42)"
            ],
            "text/html": [
              "<style>#sk-container-id-9 {color: black;}#sk-container-id-9 pre{padding: 0;}#sk-container-id-9 div.sk-toggleable {background-color: white;}#sk-container-id-9 label.sk-toggleable__label {cursor: pointer;display: block;width: 100%;margin-bottom: 0;padding: 0.3em;box-sizing: border-box;text-align: center;}#sk-container-id-9 label.sk-toggleable__label-arrow:before {content: \"▸\";float: left;margin-right: 0.25em;color: #696969;}#sk-container-id-9 label.sk-toggleable__label-arrow:hover:before {color: black;}#sk-container-id-9 div.sk-estimator:hover label.sk-toggleable__label-arrow:before {color: black;}#sk-container-id-9 div.sk-toggleable__content {max-height: 0;max-width: 0;overflow: hidden;text-align: left;background-color: #f0f8ff;}#sk-container-id-9 div.sk-toggleable__content pre {margin: 0.2em;color: black;border-radius: 0.25em;background-color: #f0f8ff;}#sk-container-id-9 input.sk-toggleable__control:checked~div.sk-toggleable__content {max-height: 200px;max-width: 100%;overflow: auto;}#sk-container-id-9 input.sk-toggleable__control:checked~label.sk-toggleable__label-arrow:before {content: \"▾\";}#sk-container-id-9 div.sk-estimator input.sk-toggleable__control:checked~label.sk-toggleable__label {background-color: #d4ebff;}#sk-container-id-9 div.sk-label input.sk-toggleable__control:checked~label.sk-toggleable__label {background-color: #d4ebff;}#sk-container-id-9 input.sk-hidden--visually {border: 0;clip: rect(1px 1px 1px 1px);clip: rect(1px, 1px, 1px, 1px);height: 1px;margin: -1px;overflow: hidden;padding: 0;position: absolute;width: 1px;}#sk-container-id-9 div.sk-estimator {font-family: monospace;background-color: #f0f8ff;border: 1px dotted black;border-radius: 0.25em;box-sizing: border-box;margin-bottom: 0.5em;}#sk-container-id-9 div.sk-estimator:hover {background-color: #d4ebff;}#sk-container-id-9 div.sk-parallel-item::after {content: \"\";width: 100%;border-bottom: 1px solid gray;flex-grow: 1;}#sk-container-id-9 div.sk-label:hover label.sk-toggleable__label {background-color: #d4ebff;}#sk-container-id-9 div.sk-serial::before {content: \"\";position: absolute;border-left: 1px solid gray;box-sizing: border-box;top: 0;bottom: 0;left: 50%;z-index: 0;}#sk-container-id-9 div.sk-serial {display: flex;flex-direction: column;align-items: center;background-color: white;padding-right: 0.2em;padding-left: 0.2em;position: relative;}#sk-container-id-9 div.sk-item {position: relative;z-index: 1;}#sk-container-id-9 div.sk-parallel {display: flex;align-items: stretch;justify-content: center;background-color: white;position: relative;}#sk-container-id-9 div.sk-item::before, #sk-container-id-9 div.sk-parallel-item::before {content: \"\";position: absolute;border-left: 1px solid gray;box-sizing: border-box;top: 0;bottom: 0;left: 50%;z-index: -1;}#sk-container-id-9 div.sk-parallel-item {display: flex;flex-direction: column;z-index: 1;position: relative;background-color: white;}#sk-container-id-9 div.sk-parallel-item:first-child::after {align-self: flex-end;width: 50%;}#sk-container-id-9 div.sk-parallel-item:last-child::after {align-self: flex-start;width: 50%;}#sk-container-id-9 div.sk-parallel-item:only-child::after {width: 0;}#sk-container-id-9 div.sk-dashed-wrapped {border: 1px dashed gray;margin: 0 0.4em 0.5em 0.4em;box-sizing: border-box;padding-bottom: 0.4em;background-color: white;}#sk-container-id-9 div.sk-label label {font-family: monospace;font-weight: bold;display: inline-block;line-height: 1.2em;}#sk-container-id-9 div.sk-label-container {text-align: center;}#sk-container-id-9 div.sk-container {/* jupyter's `normalize.less` sets `[hidden] { display: none; }` but bootstrap.min.css set `[hidden] { display: none !important; }` so we also need the `!important` here to be able to override the default hidden behavior on the sphinx rendered scikit-learn.org. See: https://github.com/scikit-learn/scikit-learn/issues/21755 */display: inline-block !important;position: relative;}#sk-container-id-9 div.sk-text-repr-fallback {display: none;}</style><div id=\"sk-container-id-9\" class=\"sk-top-container\"><div class=\"sk-text-repr-fallback\"><pre>KMeans(max_iter=100, n_clusters=4, n_init=1, random_state=42)</pre><b>In a Jupyter environment, please rerun this cell to show the HTML representation or trust the notebook. <br />On GitHub, the HTML representation is unable to render, please try loading this page with nbviewer.org.</b></div><div class=\"sk-container\" hidden><div class=\"sk-item\"><div class=\"sk-estimator sk-toggleable\"><input class=\"sk-toggleable__control sk-hidden--visually\" id=\"sk-estimator-id-9\" type=\"checkbox\" checked><label for=\"sk-estimator-id-9\" class=\"sk-toggleable__label sk-toggleable__label-arrow\">KMeans</label><div class=\"sk-toggleable__content\"><pre>KMeans(max_iter=100, n_clusters=4, n_init=1, random_state=42)</pre></div></div></div></div></div>"
            ]
          },
          "metadata": {},
          "execution_count": 67
        }
      ]
    },
    {
      "cell_type": "markdown",
      "source": [
        "# Assign clusters to documents"
      ],
      "metadata": {
        "id": "6_kn6nb7PBvf"
      }
    },
    {
      "cell_type": "code",
      "source": [
        "labels = model.labels_"
      ],
      "metadata": {
        "id": "GAMj6apvN4WU"
      },
      "execution_count": 68,
      "outputs": []
    },
    {
      "cell_type": "code",
      "source": [
        "print(labels)"
      ],
      "metadata": {
        "colab": {
          "base_uri": "https://localhost:8080/"
        },
        "id": "SkJnDOlRacle",
        "outputId": "a5fcfb24-c519-45ad-c16a-5e86bd3b1a19"
      },
      "execution_count": 69,
      "outputs": [
        {
          "output_type": "stream",
          "name": "stdout",
          "text": [
            "[2 0 0 ... 3 0 1]\n"
          ]
        }
      ]
    },
    {
      "cell_type": "markdown",
      "source": [
        "# Display some documents from each cluster"
      ],
      "metadata": {
        "id": "Jtq9wPv8PF8o"
      }
    },
    {
      "cell_type": "code",
      "source": [
        "for i in range(k):\n",
        "    print(f\"Cluster {i}:\")\n",
        "    # Get indices of documents that belong to the current cluster\n",
        "    cluster_docs = np.where(labels == i)[0]\n",
        "    # Print the first 3 documents in this cluster\n",
        "    for doc_index in cluster_docs[:3]:\n",
        "        print(newsgroups.data[doc_index])\n",
        "        print(\"\\n\" + \"-\"*80 + \"\\n\")"
      ],
      "metadata": {
        "colab": {
          "base_uri": "https://localhost:8080/"
        },
        "id": "MukhP0CKN14S",
        "outputId": "398ce7a1-23a9-4562-98ef-dc76e9df66f0"
      },
      "execution_count": 70,
      "outputs": [
        {
          "output_type": "stream",
          "name": "stdout",
          "text": [
            "Cluster 0:\n",
            "From: jb@access.digex.com (jb)\n",
            "Subject: [Genesis] More GAMES FOR SALE (Updated and Expanded)\n",
            "Organization: Express Access Online Communications, Greenbelt, MD USA\n",
            "Lines: 14\n",
            "Distribution: na\n",
            "NNTP-Posting-Host: access.digex.net\n",
            "\n",
            "Sega Genesis Games For Sale:  (All these games just $25 each!)\n",
            "\n",
            "Galaxy Force II\n",
            "Jordan vs. Bird (One on One, shoot-outs, etc.)\n",
            "Powerball\n",
            "Test Drive II: The Duel (comes in box)\n",
            "Valis III by Renovation\n",
            "\n",
            "Also for sale:\n",
            "Sportstalk Football '93 starring Joe Montana\t$35\n",
            "\n",
            "All games include manual and case.  Shipping is $4 per order (2nd day priority).\n",
            "\n",
            "John Baker\n",
            "\n",
            "\n",
            "--------------------------------------------------------------------------------\n",
            "\n",
            "From: ralf@iqsc.COM (Ralf)\n",
            "Subject: Items For Sale\n",
            "Organization: IQ Software Corp.\n",
            "Lines: 24\n",
            "\n",
            "  ITEMS FOR SALE - PRICE LISTED OR BEST OFFER!!!!!!!\n",
            "\n",
            "KFC SVGA Monitor 1024X768 .28DP Non-interlaced 14\" \n",
            "Screen, still under warranty! (Brand New)          $ 290.00\n",
            "\n",
            "1200 Baud Compuadd Modem Box/docs/software         $  20.00\n",
            "\n",
            "CGA Monitor with Cga/Parallel Card                 $  30.00\n",
            "\n",
            "SCO UNIX V3.2.2 Unlimited User OS, has the base\n",
            "and extended Utilities, and UUCP                   $ 150.00\n",
            "\n",
            "Turbo C/Turbo C++ The complete reference book.     $  15.00\n",
            "\n",
            "Serial I/O Card  1 serial Port                     $  10.00\n",
            "\n",
            "Joystick, three button                             $  10.00\n",
            "\n",
            "IDE Controller with 2 Serial, 1 parallel and one\n",
            "Game port  2 available.                            $  10.00Each\n",
            "\n",
            "(210)545-4741, ask for Ralf\n",
            "\n",
            "\n",
            "\n",
            "\n",
            "--------------------------------------------------------------------------------\n",
            "\n",
            "From: orourke@sophia.smith.edu (Joseph O'Rourke)\n",
            "Subject: Re: Looking for polygon \"convexifier\"\n",
            "Organization: Smith College, Northampton, MA, US\n",
            "Lines: 10\n",
            "\n",
            "In article <1rvpmc$3dd@nwfocus.wa.com> mpdillon@halcyon.com (Michael Dillon) writes:\n",
            ">>Does anyone know where I can find a code which would take concave\n",
            ">>polygons and break them up into a set of convex polygons?\n",
            ">\n",
            ">I also would like code or algorithms to do this.\n",
            "\n",
            "\tAlthough I am not offering code, I would like to point out that\n",
            "any polygon triangulation code satisfies the task as stated.  If you\n",
            "want code to partition a polygon into the *minimum* number of convex\n",
            "pieces, I doubt very much if it exists, although an algorithm is known.\n",
            "\n",
            "\n",
            "--------------------------------------------------------------------------------\n",
            "\n",
            "Cluster 1:\n",
            "From: jimh@carson.u.washington.edu (James Hogan)\n",
            "Subject: Re: What's a shit shoveler to do? (was Re: Amusing atheists and)\n",
            "Organization: University of Washington, Seattle\n",
            "Lines: 38\n",
            "NNTP-Posting-Host: carson.u.washington.edu\n",
            "\n",
            "In article <timmbake.735278230@mcl> timmbake@mcl.ucsb.edu (Bake Timmons) writes:\n",
            ">\n",
            ">James Hogan writes:\n",
            ">\n",
            ">[fine sentiments]\n",
            ">\n",
            ">From his very first post Jim assumed an attack of ad hominem, sarcastic\n",
            ">innuendo, i.e., shit to be shoveled.  He conveniently forgets this, of course,\n",
            ">and then _whines_ about his boredom.\n",
            "\n",
            "Ad hominem, sarcastic innuendo?  Absolutely.  Forgotten?  Hardly.\n",
            "Bored?  Not really.   I try not to confuse \"life on a.a.\" with life.\n",
            "\n",
            "I just can't overcome the urge to tease/taunt folks who bound FAQ-less\n",
            "onto a.a. with such a chip on their shoulder.  To listen to you,\n",
            "one might think we belonged to some church!\n",
            "\n",
            "I appreciate the patience of others who questioned your posting\n",
            "on a line-by-line content basis, though it's hard to know what\n",
            "impact that might have had, as compared to, say, \"shovelling\".\n",
            "\n",
            ">\n",
            ">Fact: If he were truly interested in ending the thread he wouldn't have posted\n",
            ">his last shit to be shoveled.\n",
            "\n",
            "I think I only lamented that, whatever the initial satisfactions,\n",
            "past a certain point circular abuse-heaping was just that.\n",
            "\n",
            ">--\n",
            ">Bake Timmons, III\n",
            ">\n",
            ">-- \"...there's nothing higher, stronger, more wholesome and more useful in life\n",
            ">than some good memory...\" -- Alyosha in Brothers Karamazov (Dostoevsky)\n",
            "\n",
            "Sincere questions:  Why are you here?  What are you looking for?\n",
            "\n",
            "Jim\n",
            "\n",
            "\n",
            "\n",
            "--------------------------------------------------------------------------------\n",
            "\n",
            "Subject: Re: Don't more innocents die without the death penalty?\n",
            "From: bobbe@vice.ICO.TEK.COM (Robert Beauchaine)\n",
            "Organization: Tektronix, Inc., Beaverton,  OR.\n",
            "Lines: 26\n",
            "\n",
            "In article <2942881697.0.p00168@psilink.com> p00168@psilink.com (James F. Tims) writes:\n",
            ">\n",
            ">By maintaining classes D and E, even in prison, it seems as if we \n",
            ">place more innocent people at a higher risk of an unjust death than \n",
            ">we would if the state executed classes D and E with an occasional error.\n",
            ">\n",
            "\n",
            "  I answer from the position that we would indeed place these people\n",
            "  in prison for life.\n",
            "\n",
            "  That depends not only on their predisposition towards murder, but\n",
            "  also in their success rate at escape and therefore their ability\n",
            "  to commit the same crimes again.\n",
            "\n",
            "  In other words, if lifetime imprisonment doesn't work, perhaps\n",
            "  it's not because we're not executing these people, but because\n",
            "  we're not being careful enough about how we lock them up.\n",
            "\n",
            "/\\/\\/\\/\\/\\/\\/\\/\\/\\/\\/\\/\\/\\/\\/\\/\\/\\/\\/\\/\\/\\/\\/\\/\\/\\/\\/\\/\\/\\/\\/\\/\\/\\/\\ \n",
            "\n",
            "Bob Beauchaine bobbe@vice.ICO.TEK.COM \n",
            "\n",
            "They said that Queens could stay, they blew the Bronx away,\n",
            "and sank Manhattan out at sea.\n",
            "\n",
            "^^^^^^^^^^^^^^^^^^^^^^^^^^^^^^^^^^^^^^^^^^^^^^^^^^^^^^^^^^^^^^^^^^^^\n",
            "\n",
            "\n",
            "--------------------------------------------------------------------------------\n",
            "\n",
            "From: kmr4@po.CWRU.edu (Keith M. Ryan)\n",
            "Subject: Re: free moral agency\n",
            "Organization: Case Western Reserve University\n",
            "Lines: 29\n",
            "NNTP-Posting-Host: b64635.student.cwru.edu\n",
            "\n",
            "In article <C5uxJ9.pJ@darkside.osrhe.uoknor.edu> bil@okcforum.osrhe.edu (Bill Conner) writes:\n",
            "\n",
            ">See, I told you there was an atheist mythology, thanks for proving my\n",
            ">point.\n",
            ">\n",
            ">Bill\n",
            "\n",
            "\tConsidering what you quoted and refered to was blank, I must say:\n",
            "touche!\n",
            "\n",
            "\tOf course, you are correct, there is no atheistic mythology employed \n",
            "on this board. Or, if there is, it is null and void.\n",
            "\n",
            "\n",
            "---\n",
            "\n",
            "Private note to Jennifer Fakult.\n",
            "\n",
            "        \"This post may contain one or more of the following:\n",
            "         sarcasm, cycnicism, irony, or humor. Please be aware \n",
            "         of this possibility and do not allow yourself to be \n",
            "         confused and/or thrown for a loop. If in doubt, assume\n",
            "         all of the above.\n",
            "         \n",
            "         The owners of this account do not take any responsiblity\n",
            "         for your own confusion which may result from your inability\n",
            "         to recognize any of the above. Read at your own risk, Jennifer.\"\n",
            "\n",
            "\n",
            "\n",
            "\n",
            "--------------------------------------------------------------------------------\n",
            "\n",
            "Cluster 2:\n",
            "From: carrd@iccgcc.decnet.ab.com\n",
            "Subject: Re: David Wells\n",
            "Lines: 5\n",
            "\n",
            "Has David Wells landed with a team yet?  I'd think the Tigers with their \n",
            "anemic pitching would grab this guy pronto!\n",
            "\n",
            "DC\n",
            "\n",
            "\n",
            "\n",
            "--------------------------------------------------------------------------------\n",
            "\n",
            "From: king@cogsci.ucsd.edu (Jonathan King)\n",
            "Subject: Re: Binaca Blast Deep Drive Derby (BBDDD) Returns\n",
            "Article-I.D.: network.1psmbr$qi\n",
            "Distribution: na\n",
            "Organization: University of California, San Diego\n",
            "Lines: 40\n",
            "NNTP-Posting-Host: cogsci.ucsd.edu\n",
            "\n",
            "The Engimatic Vincent Gray writes:\n",
            ">king@cogsci.ucsd.edu (Jonathan King) writes:\n",
            ">> \n",
            ">> Even less publicized than this, however, was that the $300,000\n",
            ">> didn't come from the Padres, but from an un-named source, and that the\n",
            ">> money didn't go to the Blue Jays.  In Toronto, the money was diverted\n",
            ">> into a London bank account owned by a shadowy character named Vincent\n",
            ">> Gray.\n",
            ">\n",
            ">I should be so lucky: the account number must have been rejected! :-)\n",
            "\n",
            "Oh, come on.  Everybody on the net has heard about \"plausible deniability\".\n",
            "You're not fooling anybody.\n",
            "\n",
            ">> Soon after that, Gray and Palmer sent word to Ottawa that Canada had\n",
            ">> achieved absolute superiority over the United States in the field of\n",
            ">> baseballistic research, as she controlled both the Acker-Cook\n",
            ">> Pitch-Alike Contest and the Binaca Blast Research Institute.  The Prime\n",
            ">> Minister smiled.\n",
            ">\n",
            ">I hope not.  To think that I would inadvertantly give any pleasure to\n",
            ">Mulroney _really_ ruins my day.  \n",
            "\n",
            "Note how quick Vince was to make the inference that my post claimed\n",
            "that Mulroney was smiling at the baseballistics news.  This sure looks\n",
            "like guilty knowledge to me...\n",
            "\n",
            ">Realizing the taterific importance of this work, John Palmer and I\n",
            ">concluded that we might be able to pool some resources. \n",
            "                                    ^^^^ ^^^^ ^^^^^^^^^\n",
            "I.e., the $300 grand.\n",
            "\n",
            ">Who will be the stars this year? Can anyone hope to combat Brad\n",
            ">Arnsberg's record start to last year?\n",
            "\n",
            "The early money has to be on \"Tom Tom\" Bolton, who contributed that\n",
            "clutch grandslam in his first appearance.  But I expect lots of\n",
            "strong contenders this year, many of them right here in San Diego.\n",
            "\n",
            "jking\n",
            "\n",
            "\n",
            "--------------------------------------------------------------------------------\n",
            "\n",
            "From: mutrh@uxa.ecn.bgu.edu (Todd R. Haverstock)\n",
            "Subject: Re: REQUEST: Gyro (souvlaki) sauce\n",
            "Organization: Educational Computing Network\n",
            "Lines: 23\n",
            "NNTP-Posting-Host: uxa.ecn.bgu.edu\n",
            "\n",
            "In article <1993Apr23.181051.4023@donner.SanDiego.NCR.COM> davel@davelpcSanDiego.NCR.com (Dave Lord) writes:\n",
            ">In article <1r8pcn$rm1@terminator.rs.itd.umich.edu>, Donald Mackie\n",
            "><Donald_Mackie@med.umich.edu> writes:\n",
            ">> In article <1993Apr22.205341.172965@locus.com> Michael Trofimoff,\n",
            ">> tron@fafnir.la.locus.com writes:\n",
            ">> >Would anyone out there in 'net-land' happen to have an\n",
            ">> >authentic, sure-fire way of making this great sauce that\n",
            ">> >is used to adorn Gyro's and Souvlaki?\n",
            ">> \n",
            ">> I'm not sure of the exact recipe, but I'm sure acidophilus is one of\n",
            ">> the major ingredients.   :-)\n",
            ">\n",
            ">It's plain yoghurt with grated cucumber and coriander (other spices are\n",
            ">sometimes used). Some people use half yoghurt and half mayonaise.\n",
            "\n",
            "In the kind I have made I used a Lite sour cream instead of yogurt.  May not\n",
            "be as good for you, but I prefer the taste.  A few small bits of cuke in\n",
            "addition to the grated cuke may also finish the sauce off nicely.\n",
            "\n",
            "\n",
            "---\n",
            "TRH\n",
            "mutrh@uxa.ecn.bgu.edu\n",
            "\n",
            "\n",
            "--------------------------------------------------------------------------------\n",
            "\n",
            "Cluster 3:\n",
            "From: gt7187c@prism.gatech.EDU (Thomas Oates)\n",
            "Subject: MS-DOS 6.0 FOR SALE\n",
            "Organization: Georgia Institute of Technology\n",
            "Lines: 17\n",
            "\n",
            "FOR SALE\n",
            "\n",
            "MS-DOS 6.0 UPGRADE\n",
            "\n",
            "open but unregistered\n",
            "3.5\" disks\n",
            "\n",
            "$40 or best offer\n",
            "\n",
            "Please mail replies to gt7187c@prism.gatech.edu\n",
            "\n",
            "\n",
            "-- \n",
            "Thomas Oates                              ATLANTA BRAVES\n",
            "gt7187c@prism.gatech.edu          1992 NATIONAL LEAGUE CHAMPIONS\n",
            "Prodigy NGDR20A                      \"Can't stop the chop!!!\" \n",
            "Georgia Institute of Technology \n",
            "\n",
            "\n",
            "--------------------------------------------------------------------------------\n",
            "\n",
            "From: rrome@nyx.cs.du.edu (Robert Rome)\n",
            "Subject: Need Prozac info\n",
            "Organization: Nyx, Public Access Unix @ U. of Denver Math/CS dept.\n",
            "Lines: 8\n",
            "\n",
            "\n",
            "I'm looking for information regarding dosages of prozac used in minor\n",
            "depression.  Also any other information regarding the drug is helpful. \n",
            "Please send responses direct.  Thanks!\n",
            "\n",
            "rrome@nyx.cs.du.edu\n",
            "\n",
            "\n",
            "\n",
            "\n",
            "--------------------------------------------------------------------------------\n",
            "\n",
            "From: ah157@cleveland.Freenet.Edu (Rob Henry)\n",
            "Subject: WANTED: 3 tickets to cleveland phantom of the opera show\n",
            "Organization: Case Western Reserve University, Cleveland, OH (USA)\n",
            "Lines: 6\n",
            "Reply-To: ah157@cleveland.Freenet.Edu (Rob Henry)\n",
            "NNTP-Posting-Host: slc4.ins.cwru.edu\n",
            "\n",
            "\n",
            "\n",
            "I need 3 tickets to the cleveland showing of phantom of the opera.\n",
            "I will pay face value for tickets in the 50 dollar and lower range\n",
            "preferably a matinee show but any in middle to late may will be bought.\n",
            "please leave mail.\n",
            "\n",
            "\n",
            "--------------------------------------------------------------------------------\n",
            "\n"
          ]
        }
      ]
    },
    {
      "cell_type": "markdown",
      "source": [
        "# Plot the clustering result (for 2D visualization)"
      ],
      "metadata": {
        "id": "68vhRAybP1f3"
      }
    },
    {
      "cell_type": "code",
      "source": [
        "from sklearn.decomposition import PCA\n",
        "\n",
        "pca = PCA(n_components=2)\n",
        "scatter_plot_points = pca.fit_transform(X.toarray())\n",
        "\n",
        "colors = [\"r\", \"b\", \"c\", \"y\"]\n",
        "x_axis = [o[0] for o in scatter_plot_points]\n",
        "y_axis = [o[1] for o in scatter_plot_points]\n",
        "\n",
        "plt.figure(figsize=(10, 8))\n",
        "plt.scatter(x_axis, y_axis, c=[colors[d] for d in labels])\n",
        "plt.title(\"K-means Clustering of News Articles\")\n",
        "plt.show()\n"
      ],
      "metadata": {
        "colab": {
          "base_uri": "https://localhost:8080/",
          "height": 699
        },
        "id": "tfNkkEZ4Nzgv",
        "outputId": "af5f4118-4eaf-4e31-e897-163db4fb3b3d"
      },
      "execution_count": 71,
      "outputs": [
        {
          "output_type": "display_data",
          "data": {
            "text/plain": [
              "<Figure size 1000x800 with 1 Axes>"
            ],
            "image/png": "[encoded data removed]"
          },
          "metadata": {}
        }
      ]
    }
  ]
}